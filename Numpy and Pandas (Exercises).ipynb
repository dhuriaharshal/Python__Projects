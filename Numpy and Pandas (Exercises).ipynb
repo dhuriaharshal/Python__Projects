{
 "cells": [
  {
   "cell_type": "code",
   "execution_count": 1,
   "metadata": {},
   "outputs": [],
   "source": [
    "import pandas as pd\n",
    "import numpy as np\n",
    "import os\n",
    "os.chdir('H:\\\\Datasets')"
   ]
  },
  {
   "cell_type": "markdown",
   "metadata": {},
   "source": [
    "### Extract data from the givenSalaryGender CSV file and store the data from each column in a separate NumPy array"
   ]
  },
  {
   "cell_type": "code",
   "execution_count": 3,
   "metadata": {},
   "outputs": [
    {
     "data": {
      "text/html": [
       "<div>\n",
       "<style scoped>\n",
       "    .dataframe tbody tr th:only-of-type {\n",
       "        vertical-align: middle;\n",
       "    }\n",
       "\n",
       "    .dataframe tbody tr th {\n",
       "        vertical-align: top;\n",
       "    }\n",
       "\n",
       "    .dataframe thead th {\n",
       "        text-align: right;\n",
       "    }\n",
       "</style>\n",
       "<table border=\"1\" class=\"dataframe\">\n",
       "  <thead>\n",
       "    <tr style=\"text-align: right;\">\n",
       "      <th></th>\n",
       "      <th>Salary</th>\n",
       "      <th>Gender</th>\n",
       "      <th>Age</th>\n",
       "      <th>PhD</th>\n",
       "    </tr>\n",
       "  </thead>\n",
       "  <tbody>\n",
       "    <tr>\n",
       "      <th>0</th>\n",
       "      <td>140.0</td>\n",
       "      <td>1</td>\n",
       "      <td>47</td>\n",
       "      <td>1</td>\n",
       "    </tr>\n",
       "    <tr>\n",
       "      <th>1</th>\n",
       "      <td>30.0</td>\n",
       "      <td>0</td>\n",
       "      <td>65</td>\n",
       "      <td>1</td>\n",
       "    </tr>\n",
       "    <tr>\n",
       "      <th>2</th>\n",
       "      <td>35.1</td>\n",
       "      <td>0</td>\n",
       "      <td>56</td>\n",
       "      <td>0</td>\n",
       "    </tr>\n",
       "    <tr>\n",
       "      <th>3</th>\n",
       "      <td>30.0</td>\n",
       "      <td>1</td>\n",
       "      <td>23</td>\n",
       "      <td>0</td>\n",
       "    </tr>\n",
       "    <tr>\n",
       "      <th>4</th>\n",
       "      <td>80.0</td>\n",
       "      <td>0</td>\n",
       "      <td>53</td>\n",
       "      <td>1</td>\n",
       "    </tr>\n",
       "    <tr>\n",
       "      <th>5</th>\n",
       "      <td>30.0</td>\n",
       "      <td>0</td>\n",
       "      <td>27</td>\n",
       "      <td>0</td>\n",
       "    </tr>\n",
       "  </tbody>\n",
       "</table>\n",
       "</div>"
      ],
      "text/plain": [
       "   Salary  Gender  Age  PhD\n",
       "0   140.0       1   47    1\n",
       "1    30.0       0   65    1\n",
       "2    35.1       0   56    0\n",
       "3    30.0       1   23    0\n",
       "4    80.0       0   53    1\n",
       "5    30.0       0   27    0"
      ]
     },
     "execution_count": 3,
     "metadata": {},
     "output_type": "execute_result"
    }
   ],
   "source": [
    "df = pd.read_csv('SalaryGender.csv')\n",
    "df.head(6)"
   ]
  },
  {
   "cell_type": "code",
   "execution_count": 9,
   "metadata": {},
   "outputs": [],
   "source": [
    "salary = np.array(df['Salary'])\n",
    "gender = np.array(df['Gender'])\n",
    "age = np.array(df['Age'])\n",
    "PhD = np.array(df['PhD'])"
   ]
  },
  {
   "cell_type": "code",
   "execution_count": 10,
   "metadata": {},
   "outputs": [
    {
     "name": "stdout",
     "output_type": "stream",
     "text": [
      "    Salary  Gender  Age  PhD\n",
      "0    140.0       1   47    1\n",
      "1     30.0       0   65    1\n",
      "2     35.1       0   56    0\n",
      "3     30.0       1   23    0\n",
      "4     80.0       0   53    1\n",
      "..     ...     ...  ...  ...\n",
      "95    18.6       1   26    0\n",
      "96   152.0       1   56    1\n",
      "97     1.8       1   28    0\n",
      "98    35.0       0   44    0\n",
      "99     4.0       0   24    0\n",
      "\n",
      "[100 rows x 4 columns]\n"
     ]
    }
   ],
   "source": [
    "print(df)"
   ]
  },
  {
   "cell_type": "markdown",
   "metadata": {},
   "source": [
    "### Find:\n",
    "### 1. The number of men with a PhD\n",
    "### 2. The number of women with a PhD"
   ]
  },
  {
   "cell_type": "code",
   "execution_count": 14,
   "metadata": {},
   "outputs": [
    {
     "name": "stdout",
     "output_type": "stream",
     "text": [
      "24\n",
      "15\n"
     ]
    }
   ],
   "source": [
    "men_count = 0\n",
    "women_count = 0\n",
    "\n",
    "for i in range(0,100):\n",
    "    if gender[i]==1 and PhD[i]==1:\n",
    "        men_count+=1\n",
    "    if gender[i]==0 and PhD[i]==1:\n",
    "        women_count+=1\n",
    "        \n",
    "print(men_count)\n",
    "print(women_count)"
   ]
  },
  {
   "cell_type": "markdown",
   "metadata": {},
   "source": [
    "### Use SalaryGender CSV file. Store the “Age” and “PhD” columns in one DataFrame and delete the data of all people who don’t have a PhD"
   ]
  },
  {
   "cell_type": "code",
   "execution_count": 16,
   "metadata": {},
   "outputs": [
    {
     "name": "stdout",
     "output_type": "stream",
     "text": [
      "    Salary  Gender  Age  PhD\n",
      "0    140.0       1   47    1\n",
      "1     30.0       0   65    1\n",
      "2     35.1       0   56    0\n",
      "3     30.0       1   23    0\n",
      "4     80.0       0   53    1\n",
      "..     ...     ...  ...  ...\n",
      "95    18.6       1   26    0\n",
      "96   152.0       1   56    1\n",
      "97     1.8       1   28    0\n",
      "98    35.0       0   44    0\n",
      "99     4.0       0   24    0\n",
      "\n",
      "[100 rows x 4 columns]\n"
     ]
    }
   ],
   "source": [
    "print(df)"
   ]
  },
  {
   "cell_type": "code",
   "execution_count": 18,
   "metadata": {},
   "outputs": [],
   "source": [
    "df_1 = pd.DataFrame()\n",
    "\n",
    "df_1['Age'] = age\n",
    "df_1['PhD'] = PhD"
   ]
  },
  {
   "cell_type": "code",
   "execution_count": 22,
   "metadata": {},
   "outputs": [
    {
     "name": "stdout",
     "output_type": "stream",
     "text": [
      "    Age  PhD\n",
      "0    47    1\n",
      "1    65    1\n",
      "4    53    1\n",
      "8    44    1\n",
      "9    63    1\n",
      "12   60    1\n",
      "17   47    1\n",
      "18   66    1\n",
      "19   45    1\n",
      "25   66    1\n",
      "26   36    1\n",
      "28   51    1\n",
      "29   65    1\n",
      "30   45    1\n",
      "31   52    1\n",
      "32   54    1\n",
      "38   34    1\n",
      "41   58    1\n",
      "42   77    1\n",
      "45   48    1\n",
      "47   49    1\n",
      "49   65    1\n",
      "54   49    1\n",
      "56   61    1\n",
      "57   43    1\n",
      "60   66    1\n",
      "63   56    1\n",
      "73   71    1\n",
      "76   69    1\n",
      "77   58    1\n",
      "79   32    1\n",
      "80   33    1\n",
      "81   32    1\n",
      "87   42    1\n",
      "89   51    1\n",
      "90   71    1\n",
      "92   55    1\n",
      "94   55    1\n",
      "96   56    1\n"
     ]
    }
   ],
   "source": [
    "for i in range(0,100):\n",
    "    if df_1.loc[i]['PhD'] == 0:\n",
    "        df_1 = df_1.drop(i)\n",
    "        \n",
    "print(df_1)        "
   ]
  },
  {
   "cell_type": "markdown",
   "metadata": {},
   "source": [
    "### Calculate the total number of people who have a PhD degreefrom SalaryGender CSV file."
   ]
  },
  {
   "cell_type": "code",
   "execution_count": 23,
   "metadata": {},
   "outputs": [
    {
     "name": "stdout",
     "output_type": "stream",
     "text": [
      "    Salary  Gender  Age  PhD\n",
      "0    140.0       1   47    1\n",
      "1     30.0       0   65    1\n",
      "2     35.1       0   56    0\n",
      "3     30.0       1   23    0\n",
      "4     80.0       0   53    1\n",
      "..     ...     ...  ...  ...\n",
      "95    18.6       1   26    0\n",
      "96   152.0       1   56    1\n",
      "97     1.8       1   28    0\n",
      "98    35.0       0   44    0\n",
      "99     4.0       0   24    0\n",
      "\n",
      "[100 rows x 4 columns]\n"
     ]
    }
   ],
   "source": [
    "print(df)"
   ]
  },
  {
   "cell_type": "code",
   "execution_count": 24,
   "metadata": {},
   "outputs": [
    {
     "data": {
      "text/plain": [
       "39"
      ]
     },
     "execution_count": 24,
     "metadata": {},
     "output_type": "execute_result"
    }
   ],
   "source": [
    "sum(df['PhD']==1)"
   ]
  },
  {
   "cell_type": "code",
   "execution_count": 25,
   "metadata": {},
   "outputs": [
    {
     "name": "stdout",
     "output_type": "stream",
     "text": [
      "39\n"
     ]
    }
   ],
   "source": [
    "print(men_count + women_count)"
   ]
  },
  {
   "cell_type": "markdown",
   "metadata": {},
   "source": [
    "#### How  do  you  Count  The  Number  Of  Times  Each  Value  Appears  In  An  Array  Of Integers?\n",
    "\n",
    "#### [0, 5, 4, 0, 4, 4, 3, 0, 0, 5, 2, 1, 1, 9]\n",
    "\n",
    "#### Answer should be array([4, 2, 1, 1, 3, 2, 0, 0, 0, 1]) which means 0 comes 4 times, 1 comes 2 times, 2 comes 1 time, 3 comes 1 time and so on."
   ]
  },
  {
   "cell_type": "code",
   "execution_count": 26,
   "metadata": {},
   "outputs": [],
   "source": [
    "arr = np.array([0, 5, 4, 0, 4, 4, 3, 0, 0, 5, 2, 1, 1, 9])"
   ]
  },
  {
   "cell_type": "code",
   "execution_count": 30,
   "metadata": {},
   "outputs": [
    {
     "data": {
      "text/plain": [
       "array([4, 2, 1, 1, 3, 2, 0, 0, 0, 1], dtype=int64)"
      ]
     },
     "execution_count": 30,
     "metadata": {},
     "output_type": "execute_result"
    }
   ],
   "source": [
    "np.bincount(arr)"
   ]
  },
  {
   "cell_type": "markdown",
   "metadata": {},
   "source": [
    "### Create a numpyarray [[0, 1, 2],[ 3, 4, 5],[ 6, 7, 8],[ 9,10, 11]]) and filter the elements greater than 5."
   ]
  },
  {
   "cell_type": "code",
   "execution_count": 36,
   "metadata": {},
   "outputs": [
    {
     "name": "stdout",
     "output_type": "stream",
     "text": [
      "Our array is:\n",
      "[[ 0  1  2]\n",
      " [ 3  4  5]\n",
      " [ 6  7  8]\n",
      " [ 9 10 11]]\n",
      "\n",
      "\n",
      "The items greater than 5 are:\n",
      "[ 6  7  8  9 10 11]\n"
     ]
    }
   ],
   "source": [
    "arr_1 = np.array([[0,1,2],[3,4,5],[6,7,8],[9,10,11]])\n",
    "print('Our array is:' )\n",
    "print(arr_1)\n",
    "print('\\n')\n",
    "\n",
    "print('The items greater than 5 are:' )\n",
    "print(arr_1[arr_1>5])"
   ]
  },
  {
   "cell_type": "markdown",
   "metadata": {},
   "source": [
    "#### Create a numpy array having NaN (Not a Number) and print it.\n",
    "\n",
    "#### array([ nan,   1.,   2.,  nan,   3.,   4.,   5.])\n",
    "\n",
    "#### Print the same array omitting all elements which are nan"
   ]
  },
  {
   "cell_type": "code",
   "execution_count": 39,
   "metadata": {},
   "outputs": [
    {
     "data": {
      "text/plain": [
       "array([nan,  1.,  2., nan,  3.,  4.,  5.])"
      ]
     },
     "execution_count": 39,
     "metadata": {},
     "output_type": "execute_result"
    }
   ],
   "source": [
    "x = np.array([ np.nan, 1, 2, np.nan, 3, 4, 5])\n",
    "x"
   ]
  },
  {
   "cell_type": "code",
   "execution_count": 41,
   "metadata": {},
   "outputs": [
    {
     "name": "stdout",
     "output_type": "stream",
     "text": [
      "[1. 2. 3. 4. 5.]\n"
     ]
    }
   ],
   "source": [
    "print(x[~np.isnan(x)])"
   ]
  },
  {
   "cell_type": "markdown",
   "metadata": {},
   "source": [
    "### Create  a  10x10  array  with  random  values  and  find  the  minimum  and  maximum values."
   ]
  },
  {
   "cell_type": "code",
   "execution_count": 49,
   "metadata": {},
   "outputs": [],
   "source": [
    "y = np.random.random((10,10))"
   ]
  },
  {
   "cell_type": "code",
   "execution_count": 50,
   "metadata": {},
   "outputs": [
    {
     "name": "stdout",
     "output_type": "stream",
     "text": [
      "[[0.83365505 0.31030207 0.71581502 0.52694351 0.41548324 0.45702703\n",
      "  0.09239731 0.9815721  0.89930461 0.17712274]\n",
      " [0.42669461 0.68762283 0.16652109 0.36318374 0.05985129 0.01967769\n",
      "  0.58410058 0.61340597 0.98281598 0.02423576]\n",
      " [0.33259545 0.8917982  0.19067736 0.271682   0.47701133 0.43172013\n",
      "  0.09501237 0.48031597 0.93348415 0.82882654]\n",
      " [0.47940386 0.21277903 0.41216758 0.57621587 0.44561632 0.53639892\n",
      "  0.90705967 0.96688358 0.25396086 0.02846021]\n",
      " [0.74423783 0.95518282 0.42543701 0.19690368 0.7931034  0.66369422\n",
      "  0.16290615 0.30254348 0.49273294 0.45367792]\n",
      " [0.15772437 0.11299505 0.84057856 0.83821584 0.58566545 0.5519419\n",
      "  0.4105016  0.01032939 0.42135558 0.02691745]\n",
      " [0.95042529 0.7507733  0.60263299 0.68066726 0.58485073 0.13245799\n",
      "  0.45596924 0.59402416 0.31088643 0.78003669]\n",
      " [0.93990658 0.50888522 0.97922128 0.76321098 0.86615674 0.55073268\n",
      "  0.00608314 0.39515966 0.61820274 0.6577713 ]\n",
      " [0.82702107 0.32175742 0.87558666 0.92347755 0.86297056 0.12991448\n",
      "  0.42560809 0.29707247 0.5332857  0.58077145]\n",
      " [0.49720004 0.14654211 0.97165535 0.64412703 0.37934636 0.42867308\n",
      "  0.13488262 0.95441814 0.7714248  0.41528313]]\n"
     ]
    }
   ],
   "source": [
    "print(y)"
   ]
  },
  {
   "cell_type": "code",
   "execution_count": 51,
   "metadata": {},
   "outputs": [
    {
     "data": {
      "text/plain": [
       "0.006083142988435708"
      ]
     },
     "execution_count": 51,
     "metadata": {},
     "output_type": "execute_result"
    }
   ],
   "source": [
    "y.min()"
   ]
  },
  {
   "cell_type": "code",
   "execution_count": 52,
   "metadata": {},
   "outputs": [
    {
     "data": {
      "text/plain": [
       "0.9828159770877155"
      ]
     },
     "execution_count": 52,
     "metadata": {},
     "output_type": "execute_result"
    }
   ],
   "source": [
    "y.max()"
   ]
  },
  {
   "cell_type": "code",
   "execution_count": 53,
   "metadata": {},
   "outputs": [
    {
     "name": "stdout",
     "output_type": "stream",
     "text": [
      "0.006083142988435708 0.9828159770877155\n"
     ]
    }
   ],
   "source": [
    "Ymin, Ymax = (y.min(), y.max())\n",
    "print(Ymin, Ymax)"
   ]
  },
  {
   "cell_type": "markdown",
   "metadata": {},
   "source": [
    "### Create a random vector of size 30 and find the mean value."
   ]
  },
  {
   "cell_type": "code",
   "execution_count": 54,
   "metadata": {},
   "outputs": [],
   "source": [
    "z = np.random.random(30)"
   ]
  },
  {
   "cell_type": "code",
   "execution_count": 55,
   "metadata": {},
   "outputs": [
    {
     "name": "stdout",
     "output_type": "stream",
     "text": [
      "[0.97721064 0.06157971 0.15683453 0.16136754 0.15362224 0.38900459\n",
      " 0.31428978 0.00738531 0.9763542  0.69273203 0.04767293 0.47520689\n",
      " 0.99423207 0.25778649 0.59400239 0.27287427 0.21411568 0.30455373\n",
      " 0.26954432 0.75055231 0.05539311 0.26690069 0.16844449 0.20073218\n",
      " 0.87946045 0.44465057 0.10568109 0.84260831 0.31332448 0.33225749]\n"
     ]
    }
   ],
   "source": [
    "print(z)"
   ]
  },
  {
   "cell_type": "code",
   "execution_count": 56,
   "metadata": {},
   "outputs": [
    {
     "name": "stdout",
     "output_type": "stream",
     "text": [
      "0.38934581740482077\n"
     ]
    }
   ],
   "source": [
    "print(z.mean())"
   ]
  },
  {
   "cell_type": "markdown",
   "metadata": {},
   "source": [
    "### Create numpy array having elements 0 to 10 And negate all the elements between 3 and 9."
   ]
  },
  {
   "cell_type": "code",
   "execution_count": 57,
   "metadata": {},
   "outputs": [],
   "source": [
    "a = np.arange(0,11)"
   ]
  },
  {
   "cell_type": "code",
   "execution_count": 58,
   "metadata": {},
   "outputs": [
    {
     "data": {
      "text/plain": [
       "array([ 0,  1,  2,  3,  4,  5,  6,  7,  8,  9, 10])"
      ]
     },
     "execution_count": 58,
     "metadata": {},
     "output_type": "execute_result"
    }
   ],
   "source": [
    "a"
   ]
  },
  {
   "cell_type": "code",
   "execution_count": 59,
   "metadata": {},
   "outputs": [
    {
     "name": "stdout",
     "output_type": "stream",
     "text": [
      "[ 0  1  2  3 -4 -5 -6 -7 -8  9 10]\n"
     ]
    }
   ],
   "source": [
    "a[(a>3) & (a<=8)] *= -1\n",
    "print(a)"
   ]
  },
  {
   "cell_type": "markdown",
   "metadata": {},
   "source": [
    "### Create a random array of 3 rows and 3 columns and sort it according to 1stcolumn, 2ndcolumn or 3rdcolumn."
   ]
  },
  {
   "cell_type": "code",
   "execution_count": 65,
   "metadata": {},
   "outputs": [
    {
     "name": "stdout",
     "output_type": "stream",
     "text": [
      "[[1 5 7]\n",
      " [3 2 3]\n",
      " [0 5 7]]\n"
     ]
    }
   ],
   "source": [
    "b = np.random.randint(0,10,(3,3))\n",
    "print(b)"
   ]
  },
  {
   "cell_type": "code",
   "execution_count": 66,
   "metadata": {},
   "outputs": [
    {
     "name": "stdout",
     "output_type": "stream",
     "text": [
      "[[3 2 3]\n",
      " [1 5 7]\n",
      " [0 5 7]]\n"
     ]
    }
   ],
   "source": [
    "print(b[b[:,1].argsort()])"
   ]
  },
  {
   "cell_type": "markdown",
   "metadata": {},
   "source": [
    "#### Create a random array and swap two rows of an array."
   ]
  },
  {
   "cell_type": "code",
   "execution_count": 67,
   "metadata": {},
   "outputs": [
    {
     "name": "stdout",
     "output_type": "stream",
     "text": [
      "[[ 0  1  2  3  4]\n",
      " [ 5  6  7  8  9]\n",
      " [10 11 12 13 14]\n",
      " [15 16 17 18 19]\n",
      " [20 21 22 23 24]]\n"
     ]
    }
   ],
   "source": [
    "c = np.arange(25).reshape(5,5)\n",
    "print(c)"
   ]
  },
  {
   "cell_type": "code",
   "execution_count": 68,
   "metadata": {},
   "outputs": [],
   "source": [
    "c[[0,1]] = c[[1,0]]"
   ]
  },
  {
   "cell_type": "code",
   "execution_count": 69,
   "metadata": {},
   "outputs": [
    {
     "name": "stdout",
     "output_type": "stream",
     "text": [
      "[[ 5  6  7  8  9]\n",
      " [ 0  1  2  3  4]\n",
      " [10 11 12 13 14]\n",
      " [15 16 17 18 19]\n",
      " [20 21 22 23 24]]\n"
     ]
    }
   ],
   "source": [
    "print(c)"
   ]
  },
  {
   "cell_type": "markdown",
   "metadata": {},
   "source": [
    "Analyse  various  school  outcomes  in  Tennessee  using  pandas.  Suppose  you  are  a public   schooladministrator.   Some   schools   in   your   state   of   Tennessee   are performing  below  average  academically.  Your  superintendent,  under  pressure from frustrated parents and voters, approached you with the task of understanding why  these  schools  are  under-performing.To  improve  school  performance,  you need to learn more about these schools and their students, just as a business needs to understand its own strengths and weaknesses and its customers. Though you is eager  to  build  an  impressive  explanatory  model,  you  knowthe  importance  of conducting  preliminary  research  to  prevent  possible  pitfalls  orblind  spots.  Thus, you engages in a thorough exploratory analysis, which includes: a lit review, data collection, descriptive and inferential statistics, and data visualization."
   ]
  },
  {
   "cell_type": "code",
   "execution_count": 71,
   "metadata": {},
   "outputs": [
    {
     "data": {
      "text/html": [
       "<div>\n",
       "<style scoped>\n",
       "    .dataframe tbody tr th:only-of-type {\n",
       "        vertical-align: middle;\n",
       "    }\n",
       "\n",
       "    .dataframe tbody tr th {\n",
       "        vertical-align: top;\n",
       "    }\n",
       "\n",
       "    .dataframe thead th {\n",
       "        text-align: right;\n",
       "    }\n",
       "</style>\n",
       "<table border=\"1\" class=\"dataframe\">\n",
       "  <thead>\n",
       "    <tr style=\"text-align: right;\">\n",
       "      <th></th>\n",
       "      <th>name</th>\n",
       "      <th>school_rating</th>\n",
       "      <th>size</th>\n",
       "      <th>reduced_lunch</th>\n",
       "      <th>state_percentile_16</th>\n",
       "      <th>state_percentile_15</th>\n",
       "      <th>stu_teach_ratio</th>\n",
       "      <th>school_type</th>\n",
       "      <th>avg_score_15</th>\n",
       "      <th>avg_score_16</th>\n",
       "      <th>full_time_teachers</th>\n",
       "      <th>percent_black</th>\n",
       "      <th>percent_white</th>\n",
       "      <th>percent_asian</th>\n",
       "      <th>percent_hispanic</th>\n",
       "    </tr>\n",
       "  </thead>\n",
       "  <tbody>\n",
       "    <tr>\n",
       "      <th>0</th>\n",
       "      <td>Allendale Elementary School</td>\n",
       "      <td>5.0</td>\n",
       "      <td>851.0</td>\n",
       "      <td>10.0</td>\n",
       "      <td>90.2</td>\n",
       "      <td>95.8</td>\n",
       "      <td>15.7</td>\n",
       "      <td>Public</td>\n",
       "      <td>89.4</td>\n",
       "      <td>85.2</td>\n",
       "      <td>54.0</td>\n",
       "      <td>2.9</td>\n",
       "      <td>85.5</td>\n",
       "      <td>1.6</td>\n",
       "      <td>5.6</td>\n",
       "    </tr>\n",
       "    <tr>\n",
       "      <th>1</th>\n",
       "      <td>Anderson Elementary</td>\n",
       "      <td>2.0</td>\n",
       "      <td>412.0</td>\n",
       "      <td>71.0</td>\n",
       "      <td>32.8</td>\n",
       "      <td>37.3</td>\n",
       "      <td>12.8</td>\n",
       "      <td>Public</td>\n",
       "      <td>43.0</td>\n",
       "      <td>38.3</td>\n",
       "      <td>32.0</td>\n",
       "      <td>3.9</td>\n",
       "      <td>86.7</td>\n",
       "      <td>1.0</td>\n",
       "      <td>4.9</td>\n",
       "    </tr>\n",
       "    <tr>\n",
       "      <th>2</th>\n",
       "      <td>Avoca Elementary</td>\n",
       "      <td>4.0</td>\n",
       "      <td>482.0</td>\n",
       "      <td>43.0</td>\n",
       "      <td>78.4</td>\n",
       "      <td>83.6</td>\n",
       "      <td>16.6</td>\n",
       "      <td>Public</td>\n",
       "      <td>75.7</td>\n",
       "      <td>73.0</td>\n",
       "      <td>29.0</td>\n",
       "      <td>1.0</td>\n",
       "      <td>91.5</td>\n",
       "      <td>1.2</td>\n",
       "      <td>4.4</td>\n",
       "    </tr>\n",
       "    <tr>\n",
       "      <th>3</th>\n",
       "      <td>Bailey Middle</td>\n",
       "      <td>0.0</td>\n",
       "      <td>394.0</td>\n",
       "      <td>91.0</td>\n",
       "      <td>1.6</td>\n",
       "      <td>1.0</td>\n",
       "      <td>13.1</td>\n",
       "      <td>Public Magnet</td>\n",
       "      <td>2.1</td>\n",
       "      <td>4.4</td>\n",
       "      <td>30.0</td>\n",
       "      <td>80.7</td>\n",
       "      <td>11.7</td>\n",
       "      <td>2.3</td>\n",
       "      <td>4.3</td>\n",
       "    </tr>\n",
       "    <tr>\n",
       "      <th>4</th>\n",
       "      <td>Barfield Elementary</td>\n",
       "      <td>4.0</td>\n",
       "      <td>948.0</td>\n",
       "      <td>26.0</td>\n",
       "      <td>85.3</td>\n",
       "      <td>89.2</td>\n",
       "      <td>14.8</td>\n",
       "      <td>Public</td>\n",
       "      <td>81.3</td>\n",
       "      <td>79.6</td>\n",
       "      <td>64.0</td>\n",
       "      <td>11.8</td>\n",
       "      <td>71.2</td>\n",
       "      <td>7.1</td>\n",
       "      <td>6.0</td>\n",
       "    </tr>\n",
       "    <tr>\n",
       "      <th>...</th>\n",
       "      <td>...</td>\n",
       "      <td>...</td>\n",
       "      <td>...</td>\n",
       "      <td>...</td>\n",
       "      <td>...</td>\n",
       "      <td>...</td>\n",
       "      <td>...</td>\n",
       "      <td>...</td>\n",
       "      <td>...</td>\n",
       "      <td>...</td>\n",
       "      <td>...</td>\n",
       "      <td>...</td>\n",
       "      <td>...</td>\n",
       "      <td>...</td>\n",
       "      <td>...</td>\n",
       "    </tr>\n",
       "    <tr>\n",
       "      <th>342</th>\n",
       "      <td>Winfree Bryant Middle School</td>\n",
       "      <td>3.0</td>\n",
       "      <td>611.0</td>\n",
       "      <td>57.0</td>\n",
       "      <td>59.1</td>\n",
       "      <td>65.2</td>\n",
       "      <td>16.9</td>\n",
       "      <td>Public</td>\n",
       "      <td>61.4</td>\n",
       "      <td>57.7</td>\n",
       "      <td>36.0</td>\n",
       "      <td>15.2</td>\n",
       "      <td>66.3</td>\n",
       "      <td>1.5</td>\n",
       "      <td>15.7</td>\n",
       "    </tr>\n",
       "    <tr>\n",
       "      <th>343</th>\n",
       "      <td>Winstead Elementary School</td>\n",
       "      <td>5.0</td>\n",
       "      <td>515.0</td>\n",
       "      <td>8.0</td>\n",
       "      <td>93.9</td>\n",
       "      <td>97.0</td>\n",
       "      <td>14.3</td>\n",
       "      <td>Public</td>\n",
       "      <td>92.0</td>\n",
       "      <td>89.3</td>\n",
       "      <td>36.0</td>\n",
       "      <td>3.3</td>\n",
       "      <td>87.4</td>\n",
       "      <td>3.1</td>\n",
       "      <td>4.1</td>\n",
       "    </tr>\n",
       "    <tr>\n",
       "      <th>344</th>\n",
       "      <td>Woodland Elementary</td>\n",
       "      <td>4.0</td>\n",
       "      <td>424.0</td>\n",
       "      <td>55.0</td>\n",
       "      <td>84.8</td>\n",
       "      <td>76.7</td>\n",
       "      <td>14.1</td>\n",
       "      <td>Public</td>\n",
       "      <td>69.4</td>\n",
       "      <td>79.4</td>\n",
       "      <td>30.0</td>\n",
       "      <td>11.6</td>\n",
       "      <td>70.5</td>\n",
       "      <td>2.1</td>\n",
       "      <td>9.7</td>\n",
       "    </tr>\n",
       "    <tr>\n",
       "      <th>345</th>\n",
       "      <td>Woodland Middle School</td>\n",
       "      <td>5.0</td>\n",
       "      <td>866.0</td>\n",
       "      <td>2.0</td>\n",
       "      <td>93.3</td>\n",
       "      <td>97.1</td>\n",
       "      <td>19.2</td>\n",
       "      <td>Public</td>\n",
       "      <td>89.8</td>\n",
       "      <td>84.9</td>\n",
       "      <td>45.0</td>\n",
       "      <td>4.5</td>\n",
       "      <td>77.6</td>\n",
       "      <td>10.0</td>\n",
       "      <td>4.4</td>\n",
       "    </tr>\n",
       "    <tr>\n",
       "      <th>346</th>\n",
       "      <td>Wright Middle</td>\n",
       "      <td>0.0</td>\n",
       "      <td>829.0</td>\n",
       "      <td>89.0</td>\n",
       "      <td>4.5</td>\n",
       "      <td>1.2</td>\n",
       "      <td>16.5</td>\n",
       "      <td>Public</td>\n",
       "      <td>2.7</td>\n",
       "      <td>9.6</td>\n",
       "      <td>50.0</td>\n",
       "      <td>22.3</td>\n",
       "      <td>21.0</td>\n",
       "      <td>6.6</td>\n",
       "      <td>49.5</td>\n",
       "    </tr>\n",
       "  </tbody>\n",
       "</table>\n",
       "<p>347 rows × 15 columns</p>\n",
       "</div>"
      ],
      "text/plain": [
       "                             name  school_rating   size  reduced_lunch  \\\n",
       "0     Allendale Elementary School            5.0  851.0           10.0   \n",
       "1             Anderson Elementary            2.0  412.0           71.0   \n",
       "2                Avoca Elementary            4.0  482.0           43.0   \n",
       "3                   Bailey Middle            0.0  394.0           91.0   \n",
       "4             Barfield Elementary            4.0  948.0           26.0   \n",
       "..                            ...            ...    ...            ...   \n",
       "342  Winfree Bryant Middle School            3.0  611.0           57.0   \n",
       "343    Winstead Elementary School            5.0  515.0            8.0   \n",
       "344           Woodland Elementary            4.0  424.0           55.0   \n",
       "345        Woodland Middle School            5.0  866.0            2.0   \n",
       "346                 Wright Middle            0.0  829.0           89.0   \n",
       "\n",
       "     state_percentile_16  state_percentile_15  stu_teach_ratio    school_type  \\\n",
       "0                   90.2                 95.8             15.7         Public   \n",
       "1                   32.8                 37.3             12.8         Public   \n",
       "2                   78.4                 83.6             16.6         Public   \n",
       "3                    1.6                  1.0             13.1  Public Magnet   \n",
       "4                   85.3                 89.2             14.8         Public   \n",
       "..                   ...                  ...              ...            ...   \n",
       "342                 59.1                 65.2             16.9         Public   \n",
       "343                 93.9                 97.0             14.3         Public   \n",
       "344                 84.8                 76.7             14.1         Public   \n",
       "345                 93.3                 97.1             19.2         Public   \n",
       "346                  4.5                  1.2             16.5         Public   \n",
       "\n",
       "     avg_score_15  avg_score_16  full_time_teachers  percent_black  \\\n",
       "0            89.4          85.2                54.0            2.9   \n",
       "1            43.0          38.3                32.0            3.9   \n",
       "2            75.7          73.0                29.0            1.0   \n",
       "3             2.1           4.4                30.0           80.7   \n",
       "4            81.3          79.6                64.0           11.8   \n",
       "..            ...           ...                 ...            ...   \n",
       "342          61.4          57.7                36.0           15.2   \n",
       "343          92.0          89.3                36.0            3.3   \n",
       "344          69.4          79.4                30.0           11.6   \n",
       "345          89.8          84.9                45.0            4.5   \n",
       "346           2.7           9.6                50.0           22.3   \n",
       "\n",
       "     percent_white  percent_asian  percent_hispanic  \n",
       "0             85.5            1.6               5.6  \n",
       "1             86.7            1.0               4.9  \n",
       "2             91.5            1.2               4.4  \n",
       "3             11.7            2.3               4.3  \n",
       "4             71.2            7.1               6.0  \n",
       "..             ...            ...               ...  \n",
       "342           66.3            1.5              15.7  \n",
       "343           87.4            3.1               4.1  \n",
       "344           70.5            2.1               9.7  \n",
       "345           77.6           10.0               4.4  \n",
       "346           21.0            6.6              49.5  \n",
       "\n",
       "[347 rows x 15 columns]"
      ]
     },
     "execution_count": 71,
     "metadata": {},
     "output_type": "execute_result"
    }
   ],
   "source": [
    "df_2 = pd.read_csv('middle_tn_schools.csv')\n",
    "df_2"
   ]
  },
  {
   "cell_type": "code",
   "execution_count": 72,
   "metadata": {},
   "outputs": [
    {
     "data": {
      "text/html": [
       "<div>\n",
       "<style scoped>\n",
       "    .dataframe tbody tr th:only-of-type {\n",
       "        vertical-align: middle;\n",
       "    }\n",
       "\n",
       "    .dataframe tbody tr th {\n",
       "        vertical-align: top;\n",
       "    }\n",
       "\n",
       "    .dataframe thead th {\n",
       "        text-align: right;\n",
       "    }\n",
       "</style>\n",
       "<table border=\"1\" class=\"dataframe\">\n",
       "  <thead>\n",
       "    <tr style=\"text-align: right;\">\n",
       "      <th></th>\n",
       "      <th>school_rating</th>\n",
       "      <th>size</th>\n",
       "      <th>reduced_lunch</th>\n",
       "      <th>state_percentile_16</th>\n",
       "      <th>state_percentile_15</th>\n",
       "      <th>stu_teach_ratio</th>\n",
       "      <th>avg_score_15</th>\n",
       "      <th>avg_score_16</th>\n",
       "      <th>full_time_teachers</th>\n",
       "      <th>percent_black</th>\n",
       "      <th>percent_white</th>\n",
       "      <th>percent_asian</th>\n",
       "      <th>percent_hispanic</th>\n",
       "    </tr>\n",
       "  </thead>\n",
       "  <tbody>\n",
       "    <tr>\n",
       "      <th>count</th>\n",
       "      <td>347.000000</td>\n",
       "      <td>347.000000</td>\n",
       "      <td>347.000000</td>\n",
       "      <td>347.000000</td>\n",
       "      <td>341.000000</td>\n",
       "      <td>347.000000</td>\n",
       "      <td>341.000000</td>\n",
       "      <td>347.000000</td>\n",
       "      <td>347.000000</td>\n",
       "      <td>347.000000</td>\n",
       "      <td>347.000000</td>\n",
       "      <td>347.000000</td>\n",
       "      <td>347.000000</td>\n",
       "    </tr>\n",
       "    <tr>\n",
       "      <th>mean</th>\n",
       "      <td>2.968300</td>\n",
       "      <td>699.472622</td>\n",
       "      <td>50.279539</td>\n",
       "      <td>58.801729</td>\n",
       "      <td>58.249267</td>\n",
       "      <td>15.461671</td>\n",
       "      <td>57.004692</td>\n",
       "      <td>57.049856</td>\n",
       "      <td>44.939481</td>\n",
       "      <td>21.197983</td>\n",
       "      <td>61.673487</td>\n",
       "      <td>2.642651</td>\n",
       "      <td>11.164553</td>\n",
       "    </tr>\n",
       "    <tr>\n",
       "      <th>std</th>\n",
       "      <td>1.690377</td>\n",
       "      <td>400.598636</td>\n",
       "      <td>25.480236</td>\n",
       "      <td>32.540747</td>\n",
       "      <td>32.702630</td>\n",
       "      <td>5.725170</td>\n",
       "      <td>26.696450</td>\n",
       "      <td>27.968974</td>\n",
       "      <td>22.053386</td>\n",
       "      <td>23.562538</td>\n",
       "      <td>27.274859</td>\n",
       "      <td>3.109629</td>\n",
       "      <td>12.030608</td>\n",
       "    </tr>\n",
       "    <tr>\n",
       "      <th>min</th>\n",
       "      <td>0.000000</td>\n",
       "      <td>53.000000</td>\n",
       "      <td>2.000000</td>\n",
       "      <td>0.200000</td>\n",
       "      <td>0.600000</td>\n",
       "      <td>4.700000</td>\n",
       "      <td>1.500000</td>\n",
       "      <td>0.100000</td>\n",
       "      <td>2.000000</td>\n",
       "      <td>0.000000</td>\n",
       "      <td>1.100000</td>\n",
       "      <td>0.000000</td>\n",
       "      <td>0.000000</td>\n",
       "    </tr>\n",
       "    <tr>\n",
       "      <th>25%</th>\n",
       "      <td>2.000000</td>\n",
       "      <td>420.500000</td>\n",
       "      <td>30.000000</td>\n",
       "      <td>30.950000</td>\n",
       "      <td>27.100000</td>\n",
       "      <td>13.700000</td>\n",
       "      <td>37.600000</td>\n",
       "      <td>37.000000</td>\n",
       "      <td>30.000000</td>\n",
       "      <td>3.600000</td>\n",
       "      <td>40.600000</td>\n",
       "      <td>0.750000</td>\n",
       "      <td>3.800000</td>\n",
       "    </tr>\n",
       "    <tr>\n",
       "      <th>50%</th>\n",
       "      <td>3.000000</td>\n",
       "      <td>595.000000</td>\n",
       "      <td>51.000000</td>\n",
       "      <td>66.400000</td>\n",
       "      <td>65.800000</td>\n",
       "      <td>15.000000</td>\n",
       "      <td>61.800000</td>\n",
       "      <td>60.700000</td>\n",
       "      <td>40.000000</td>\n",
       "      <td>13.500000</td>\n",
       "      <td>68.700000</td>\n",
       "      <td>1.600000</td>\n",
       "      <td>6.400000</td>\n",
       "    </tr>\n",
       "    <tr>\n",
       "      <th>75%</th>\n",
       "      <td>4.000000</td>\n",
       "      <td>851.000000</td>\n",
       "      <td>71.500000</td>\n",
       "      <td>88.000000</td>\n",
       "      <td>88.600000</td>\n",
       "      <td>16.700000</td>\n",
       "      <td>79.600000</td>\n",
       "      <td>80.250000</td>\n",
       "      <td>54.000000</td>\n",
       "      <td>28.350000</td>\n",
       "      <td>85.950000</td>\n",
       "      <td>3.100000</td>\n",
       "      <td>13.800000</td>\n",
       "    </tr>\n",
       "    <tr>\n",
       "      <th>max</th>\n",
       "      <td>5.000000</td>\n",
       "      <td>2314.000000</td>\n",
       "      <td>98.000000</td>\n",
       "      <td>99.800000</td>\n",
       "      <td>99.800000</td>\n",
       "      <td>111.000000</td>\n",
       "      <td>99.000000</td>\n",
       "      <td>98.900000</td>\n",
       "      <td>140.000000</td>\n",
       "      <td>97.400000</td>\n",
       "      <td>99.700000</td>\n",
       "      <td>21.100000</td>\n",
       "      <td>65.200000</td>\n",
       "    </tr>\n",
       "  </tbody>\n",
       "</table>\n",
       "</div>"
      ],
      "text/plain": [
       "       school_rating         size  reduced_lunch  state_percentile_16  \\\n",
       "count     347.000000   347.000000     347.000000           347.000000   \n",
       "mean        2.968300   699.472622      50.279539            58.801729   \n",
       "std         1.690377   400.598636      25.480236            32.540747   \n",
       "min         0.000000    53.000000       2.000000             0.200000   \n",
       "25%         2.000000   420.500000      30.000000            30.950000   \n",
       "50%         3.000000   595.000000      51.000000            66.400000   \n",
       "75%         4.000000   851.000000      71.500000            88.000000   \n",
       "max         5.000000  2314.000000      98.000000            99.800000   \n",
       "\n",
       "       state_percentile_15  stu_teach_ratio  avg_score_15  avg_score_16  \\\n",
       "count           341.000000       347.000000    341.000000    347.000000   \n",
       "mean             58.249267        15.461671     57.004692     57.049856   \n",
       "std              32.702630         5.725170     26.696450     27.968974   \n",
       "min               0.600000         4.700000      1.500000      0.100000   \n",
       "25%              27.100000        13.700000     37.600000     37.000000   \n",
       "50%              65.800000        15.000000     61.800000     60.700000   \n",
       "75%              88.600000        16.700000     79.600000     80.250000   \n",
       "max              99.800000       111.000000     99.000000     98.900000   \n",
       "\n",
       "       full_time_teachers  percent_black  percent_white  percent_asian  \\\n",
       "count          347.000000     347.000000     347.000000     347.000000   \n",
       "mean            44.939481      21.197983      61.673487       2.642651   \n",
       "std             22.053386      23.562538      27.274859       3.109629   \n",
       "min              2.000000       0.000000       1.100000       0.000000   \n",
       "25%             30.000000       3.600000      40.600000       0.750000   \n",
       "50%             40.000000      13.500000      68.700000       1.600000   \n",
       "75%             54.000000      28.350000      85.950000       3.100000   \n",
       "max            140.000000      97.400000      99.700000      21.100000   \n",
       "\n",
       "       percent_hispanic  \n",
       "count        347.000000  \n",
       "mean          11.164553  \n",
       "std           12.030608  \n",
       "min            0.000000  \n",
       "25%            3.800000  \n",
       "50%            6.400000  \n",
       "75%           13.800000  \n",
       "max           65.200000  "
      ]
     },
     "execution_count": 72,
     "metadata": {},
     "output_type": "execute_result"
    }
   ],
   "source": [
    "df_2.describe()"
   ]
  },
  {
   "cell_type": "markdown",
   "metadata": {},
   "source": [
    "reduced_lunch is  a  variable  measuring  the  average  percentage of students per school enrolled in a federal program that provides lunches for students from lower-income households. In short,reduced_lunch is a good proxy for household income."
   ]
  },
  {
   "cell_type": "code",
   "execution_count": 75,
   "metadata": {},
   "outputs": [
    {
     "data": {
      "text/plain": [
       "                      school_rating\n",
       "reduced_lunch  count  0.0              43.000000\n",
       "                      1.0              40.000000\n",
       "                      2.0              44.000000\n",
       "                      3.0              56.000000\n",
       "                      4.0              86.000000\n",
       "                      5.0              78.000000\n",
       "               mean   0.0              83.581395\n",
       "                      1.0              74.950000\n",
       "                      2.0              64.272727\n",
       "                      3.0              50.285714\n",
       "                      4.0              41.000000\n",
       "                      5.0              21.602564\n",
       "               std    0.0               8.813498\n",
       "                      1.0              11.644191\n",
       "                      2.0              11.956051\n",
       "                      3.0              13.550866\n",
       "                      4.0              16.681092\n",
       "                      5.0              17.651268\n",
       "               min    0.0              53.000000\n",
       "                      1.0              53.000000\n",
       "                      2.0              37.000000\n",
       "                      3.0              24.000000\n",
       "                      4.0               4.000000\n",
       "                      5.0               2.000000\n",
       "               25%    0.0              79.500000\n",
       "                      1.0              65.000000\n",
       "                      2.0              54.750000\n",
       "                      3.0              41.000000\n",
       "                      4.0              30.000000\n",
       "                      5.0               8.000000\n",
       "               50%    0.0              86.000000\n",
       "                      1.0              74.500000\n",
       "                      2.0              62.500000\n",
       "                      3.0              48.500000\n",
       "                      4.0              41.500000\n",
       "                      5.0              19.000000\n",
       "               75%    0.0              90.000000\n",
       "                      1.0              84.250000\n",
       "                      2.0              74.000000\n",
       "                      3.0              63.000000\n",
       "                      4.0              50.000000\n",
       "                      5.0              29.750000\n",
       "               max    0.0              98.000000\n",
       "                      1.0              98.000000\n",
       "                      2.0              88.000000\n",
       "                      3.0              78.000000\n",
       "                      4.0              87.000000\n",
       "                      5.0              87.000000\n",
       "dtype: float64"
      ]
     },
     "execution_count": 75,
     "metadata": {},
     "output_type": "execute_result"
    }
   ],
   "source": [
    "df_2[['reduced_lunch','school_rating']].groupby(['school_rating']).describe().unstack()"
   ]
  },
  {
   "cell_type": "markdown",
   "metadata": {},
   "source": [
    "Find the correlation between ‘reduced_lunch’and‘school_rating’. The values in the correlation matrix table will be between -1 and 1. A value of -1 indicates the strongest possible negative correlation, meaning as one variable decreases the other increases. And a value of 1 indicates the opposite."
   ]
  },
  {
   "cell_type": "code",
   "execution_count": 79,
   "metadata": {},
   "outputs": [
    {
     "data": {
      "text/html": [
       "<div>\n",
       "<style scoped>\n",
       "    .dataframe tbody tr th:only-of-type {\n",
       "        vertical-align: middle;\n",
       "    }\n",
       "\n",
       "    .dataframe tbody tr th {\n",
       "        vertical-align: top;\n",
       "    }\n",
       "\n",
       "    .dataframe thead th {\n",
       "        text-align: right;\n",
       "    }\n",
       "</style>\n",
       "<table border=\"1\" class=\"dataframe\">\n",
       "  <thead>\n",
       "    <tr style=\"text-align: right;\">\n",
       "      <th></th>\n",
       "      <th>reduced_lunch</th>\n",
       "      <th>school_rating</th>\n",
       "    </tr>\n",
       "  </thead>\n",
       "  <tbody>\n",
       "    <tr>\n",
       "      <th>reduced_lunch</th>\n",
       "      <td>1.000000</td>\n",
       "      <td>-0.815757</td>\n",
       "    </tr>\n",
       "    <tr>\n",
       "      <th>school_rating</th>\n",
       "      <td>-0.815757</td>\n",
       "      <td>1.000000</td>\n",
       "    </tr>\n",
       "  </tbody>\n",
       "</table>\n",
       "</div>"
      ],
      "text/plain": [
       "               reduced_lunch  school_rating\n",
       "reduced_lunch       1.000000      -0.815757\n",
       "school_rating      -0.815757       1.000000"
      ]
     },
     "execution_count": 79,
     "metadata": {},
     "output_type": "execute_result"
    }
   ],
   "source": [
    "df_2[['reduced_lunch','school_rating']].corr()"
   ]
  },
  {
   "cell_type": "markdown",
   "metadata": {},
   "source": [
    "Find the relationship between school_rating and reduced_lunch, Plot a graph with the two variables on a scatter plot. Each dot represents a school.  The slope of the trend line indicates how much school_rating decreases as reduced_lunch increases.  A  steeper  slope  would  indicate  that  a  small  change in reduced_lunchhas  a  big  impact  on school_rating while  a  more  horizontal  slope would  indicate  that  the  same  small  change  in reduced_lunch has  a  smaller  impact on school_rating."
   ]
  },
  {
   "cell_type": "code",
   "execution_count": 76,
   "metadata": {},
   "outputs": [],
   "source": [
    "import matplotlib.pyplot as plt\n",
    "import seaborn as sns"
   ]
  },
  {
   "cell_type": "code",
   "execution_count": 80,
   "metadata": {},
   "outputs": [
    {
     "data": {
      "image/png": "[encoded data removed]",
      "text/plain": [
       "<Figure size 1008x576 with 1 Axes>"
      ]
     },
     "metadata": {
      "needs_background": "light"
     },
     "output_type": "display_data"
    }
   ],
   "source": [
    "plt.figure(figsize=(14,8))\n",
    "reg_plot = sns.regplot(data=df_2,x='reduced_lunch',y='school_rating')\n",
    "plt.show()"
   ]
  },
  {
   "cell_type": "markdown",
   "metadata": {},
   "source": [
    " Red cells indicate positive correlation; blue cells indicate negative correlation; white cells indicate no correlation. The darker the colors, the stronger the correlation (positive or negative) between those two variables. Draw a graph of correlation matrix having all important fields of data frame."
   ]
  },
  {
   "cell_type": "code",
   "execution_count": 81,
   "metadata": {},
   "outputs": [
    {
     "data": {
      "image/png": "[encoded data removed]",
      "text/plain": [
       "<Figure size 936x720 with 2 Axes>"
      ]
     },
     "metadata": {
      "needs_background": "light"
     },
     "output_type": "display_data"
    }
   ],
   "source": [
    "corr = df_2.corr()\n",
    "_, ax = plt.subplots(figsize=(13,10))\n",
    "# graph correlation matrix\n",
    "_ = sns.heatmap(corr, ax=ax, xticklabels=corr.columns.values, yticklabels=corr.columns.values)\n",
    "plt.show()"
   ]
  },
  {
   "cell_type": "markdown",
   "metadata": {},
   "source": [
    "Business challenge/requirement:\n",
    "\n",
    "You are a data analyst with University of Cal USA.The University has data of Math, Physics and Data Structure  score of sophomore students. This data is stored in different files. The University has hired a data science company to do analysis of scores and find if there is any correlation of score with age, ethnicity etc. Before the data is given to the company you have to do data wrangling."
   ]
  },
  {
   "cell_type": "code",
   "execution_count": 82,
   "metadata": {},
   "outputs": [],
   "source": [
    "math_data = pd.read_csv('MathScoreTerm1.csv')\n",
    "phy_data  = pd.read_csv('PhysicsScoreTerm1.csv')\n",
    "ds_data = pd.read_csv('DSScoreTerm1.csv')"
   ]
  },
  {
   "cell_type": "code",
   "execution_count": 83,
   "metadata": {},
   "outputs": [
    {
     "data": {
      "text/html": [
       "<div>\n",
       "<style scoped>\n",
       "    .dataframe tbody tr th:only-of-type {\n",
       "        vertical-align: middle;\n",
       "    }\n",
       "\n",
       "    .dataframe tbody tr th {\n",
       "        vertical-align: top;\n",
       "    }\n",
       "\n",
       "    .dataframe thead th {\n",
       "        text-align: right;\n",
       "    }\n",
       "</style>\n",
       "<table border=\"1\" class=\"dataframe\">\n",
       "  <thead>\n",
       "    <tr style=\"text-align: right;\">\n",
       "      <th></th>\n",
       "      <th>Name</th>\n",
       "      <th>Score</th>\n",
       "      <th>Age</th>\n",
       "      <th>Ethinicity</th>\n",
       "      <th>Subject</th>\n",
       "      <th>Sex</th>\n",
       "      <th>ID</th>\n",
       "    </tr>\n",
       "  </thead>\n",
       "  <tbody>\n",
       "    <tr>\n",
       "      <th>0</th>\n",
       "      <td>AI-KYUNG CHUNG</td>\n",
       "      <td>88.0</td>\n",
       "      <td>18</td>\n",
       "      <td>White American</td>\n",
       "      <td>Maths</td>\n",
       "      <td>M</td>\n",
       "      <td>1</td>\n",
       "    </tr>\n",
       "    <tr>\n",
       "      <th>1</th>\n",
       "      <td>ALAN HARVEY</td>\n",
       "      <td>85.0</td>\n",
       "      <td>19</td>\n",
       "      <td>European American</td>\n",
       "      <td>Maths</td>\n",
       "      <td>M</td>\n",
       "      <td>2</td>\n",
       "    </tr>\n",
       "    <tr>\n",
       "      <th>2</th>\n",
       "      <td>ALAN REYNAUD</td>\n",
       "      <td>45.0</td>\n",
       "      <td>19</td>\n",
       "      <td>European American</td>\n",
       "      <td>Maths</td>\n",
       "      <td>M</td>\n",
       "      <td>3</td>\n",
       "    </tr>\n",
       "    <tr>\n",
       "      <th>3</th>\n",
       "      <td>ALBERT CENDANA</td>\n",
       "      <td>82.0</td>\n",
       "      <td>18</td>\n",
       "      <td>White American</td>\n",
       "      <td>Maths</td>\n",
       "      <td>M</td>\n",
       "      <td>4</td>\n",
       "    </tr>\n",
       "    <tr>\n",
       "      <th>4</th>\n",
       "      <td>ALBERT HOLT JR</td>\n",
       "      <td>82.0</td>\n",
       "      <td>18</td>\n",
       "      <td>White American</td>\n",
       "      <td>Maths</td>\n",
       "      <td>F</td>\n",
       "      <td>5</td>\n",
       "    </tr>\n",
       "  </tbody>\n",
       "</table>\n",
       "</div>"
      ],
      "text/plain": [
       "             Name  Score  Age         Ethinicity Subject Sex  ID\n",
       "0  AI-KYUNG CHUNG   88.0   18     White American   Maths   M   1\n",
       "1     ALAN HARVEY   85.0   19  European American   Maths   M   2\n",
       "2    ALAN REYNAUD   45.0   19  European American   Maths   M   3\n",
       "3  ALBERT CENDANA   82.0   18     White American   Maths   M   4\n",
       "4  ALBERT HOLT JR   82.0   18     White American   Maths   F   5"
      ]
     },
     "execution_count": 83,
     "metadata": {},
     "output_type": "execute_result"
    }
   ],
   "source": [
    "math_data.head()"
   ]
  },
  {
   "cell_type": "code",
   "execution_count": 84,
   "metadata": {},
   "outputs": [
    {
     "data": {
      "text/html": [
       "<div>\n",
       "<style scoped>\n",
       "    .dataframe tbody tr th:only-of-type {\n",
       "        vertical-align: middle;\n",
       "    }\n",
       "\n",
       "    .dataframe tbody tr th {\n",
       "        vertical-align: top;\n",
       "    }\n",
       "\n",
       "    .dataframe thead th {\n",
       "        text-align: right;\n",
       "    }\n",
       "</style>\n",
       "<table border=\"1\" class=\"dataframe\">\n",
       "  <thead>\n",
       "    <tr style=\"text-align: right;\">\n",
       "      <th></th>\n",
       "      <th>Name</th>\n",
       "      <th>Score</th>\n",
       "      <th>Age</th>\n",
       "      <th>Ethinicity</th>\n",
       "      <th>Subject</th>\n",
       "      <th>Sex</th>\n",
       "      <th>ID</th>\n",
       "    </tr>\n",
       "  </thead>\n",
       "  <tbody>\n",
       "    <tr>\n",
       "      <th>0</th>\n",
       "      <td>AI-KYUNG CHUNG</td>\n",
       "      <td>84.0</td>\n",
       "      <td>18</td>\n",
       "      <td>White American</td>\n",
       "      <td>Physics</td>\n",
       "      <td>M</td>\n",
       "      <td>1</td>\n",
       "    </tr>\n",
       "    <tr>\n",
       "      <th>1</th>\n",
       "      <td>ALAN HARVEY</td>\n",
       "      <td>81.0</td>\n",
       "      <td>19</td>\n",
       "      <td>European American</td>\n",
       "      <td>Physics</td>\n",
       "      <td>M</td>\n",
       "      <td>2</td>\n",
       "    </tr>\n",
       "    <tr>\n",
       "      <th>2</th>\n",
       "      <td>ALAN REYNAUD</td>\n",
       "      <td>41.0</td>\n",
       "      <td>19</td>\n",
       "      <td>European American</td>\n",
       "      <td>Physics</td>\n",
       "      <td>M</td>\n",
       "      <td>3</td>\n",
       "    </tr>\n",
       "    <tr>\n",
       "      <th>3</th>\n",
       "      <td>ALBERT CENDANA</td>\n",
       "      <td>78.0</td>\n",
       "      <td>18</td>\n",
       "      <td>White American</td>\n",
       "      <td>Physics</td>\n",
       "      <td>M</td>\n",
       "      <td>4</td>\n",
       "    </tr>\n",
       "    <tr>\n",
       "      <th>4</th>\n",
       "      <td>ALBERT HOLT JR</td>\n",
       "      <td>78.0</td>\n",
       "      <td>18</td>\n",
       "      <td>White American</td>\n",
       "      <td>Physics</td>\n",
       "      <td>F</td>\n",
       "      <td>5</td>\n",
       "    </tr>\n",
       "  </tbody>\n",
       "</table>\n",
       "</div>"
      ],
      "text/plain": [
       "             Name  Score  Age         Ethinicity  Subject Sex  ID\n",
       "0  AI-KYUNG CHUNG   84.0   18     White American  Physics   M   1\n",
       "1     ALAN HARVEY   81.0   19  European American  Physics   M   2\n",
       "2    ALAN REYNAUD   41.0   19  European American  Physics   M   3\n",
       "3  ALBERT CENDANA   78.0   18     White American  Physics   M   4\n",
       "4  ALBERT HOLT JR   78.0   18     White American  Physics   F   5"
      ]
     },
     "execution_count": 84,
     "metadata": {},
     "output_type": "execute_result"
    }
   ],
   "source": [
    "phy_data.head()"
   ]
  },
  {
   "cell_type": "code",
   "execution_count": 85,
   "metadata": {},
   "outputs": [
    {
     "data": {
      "text/html": [
       "<div>\n",
       "<style scoped>\n",
       "    .dataframe tbody tr th:only-of-type {\n",
       "        vertical-align: middle;\n",
       "    }\n",
       "\n",
       "    .dataframe tbody tr th {\n",
       "        vertical-align: top;\n",
       "    }\n",
       "\n",
       "    .dataframe thead th {\n",
       "        text-align: right;\n",
       "    }\n",
       "</style>\n",
       "<table border=\"1\" class=\"dataframe\">\n",
       "  <thead>\n",
       "    <tr style=\"text-align: right;\">\n",
       "      <th></th>\n",
       "      <th>Name</th>\n",
       "      <th>Score</th>\n",
       "      <th>Age</th>\n",
       "      <th>Ethinicity</th>\n",
       "      <th>Subject</th>\n",
       "      <th>Sex</th>\n",
       "      <th>ID</th>\n",
       "    </tr>\n",
       "  </thead>\n",
       "  <tbody>\n",
       "    <tr>\n",
       "      <th>0</th>\n",
       "      <td>AI-KYUNG CHUNG</td>\n",
       "      <td>82.0</td>\n",
       "      <td>18</td>\n",
       "      <td>White American</td>\n",
       "      <td>Data Structue</td>\n",
       "      <td>M</td>\n",
       "      <td>1</td>\n",
       "    </tr>\n",
       "    <tr>\n",
       "      <th>1</th>\n",
       "      <td>ALAN HARVEY</td>\n",
       "      <td>79.0</td>\n",
       "      <td>19</td>\n",
       "      <td>European American</td>\n",
       "      <td>Data Structue</td>\n",
       "      <td>M</td>\n",
       "      <td>2</td>\n",
       "    </tr>\n",
       "    <tr>\n",
       "      <th>2</th>\n",
       "      <td>ALAN REYNAUD</td>\n",
       "      <td>39.0</td>\n",
       "      <td>19</td>\n",
       "      <td>European American</td>\n",
       "      <td>Data Structue</td>\n",
       "      <td>M</td>\n",
       "      <td>3</td>\n",
       "    </tr>\n",
       "    <tr>\n",
       "      <th>3</th>\n",
       "      <td>ALBERT CENDANA</td>\n",
       "      <td>76.0</td>\n",
       "      <td>18</td>\n",
       "      <td>White American</td>\n",
       "      <td>Data Structue</td>\n",
       "      <td>M</td>\n",
       "      <td>4</td>\n",
       "    </tr>\n",
       "    <tr>\n",
       "      <th>4</th>\n",
       "      <td>ALBERT HOLT JR</td>\n",
       "      <td>76.0</td>\n",
       "      <td>18</td>\n",
       "      <td>White American</td>\n",
       "      <td>Data Structue</td>\n",
       "      <td>F</td>\n",
       "      <td>5</td>\n",
       "    </tr>\n",
       "  </tbody>\n",
       "</table>\n",
       "</div>"
      ],
      "text/plain": [
       "             Name  Score  Age         Ethinicity        Subject Sex  ID\n",
       "0  AI-KYUNG CHUNG   82.0   18     White American  Data Structue   M   1\n",
       "1     ALAN HARVEY   79.0   19  European American  Data Structue   M   2\n",
       "2    ALAN REYNAUD   39.0   19  European American  Data Structue   M   3\n",
       "3  ALBERT CENDANA   76.0   18     White American  Data Structue   M   4\n",
       "4  ALBERT HOLT JR   76.0   18     White American  Data Structue   F   5"
      ]
     },
     "execution_count": 85,
     "metadata": {},
     "output_type": "execute_result"
    }
   ],
   "source": [
    "ds_data.head()"
   ]
  },
  {
   "cell_type": "markdown",
   "metadata": {},
   "source": [
    "### Remove the name and ethnicity column (to ensure confidentiality)"
   ]
  },
  {
   "cell_type": "code",
   "execution_count": 87,
   "metadata": {},
   "outputs": [
    {
     "data": {
      "text/html": [
       "<div>\n",
       "<style scoped>\n",
       "    .dataframe tbody tr th:only-of-type {\n",
       "        vertical-align: middle;\n",
       "    }\n",
       "\n",
       "    .dataframe tbody tr th {\n",
       "        vertical-align: top;\n",
       "    }\n",
       "\n",
       "    .dataframe thead th {\n",
       "        text-align: right;\n",
       "    }\n",
       "</style>\n",
       "<table border=\"1\" class=\"dataframe\">\n",
       "  <thead>\n",
       "    <tr style=\"text-align: right;\">\n",
       "      <th></th>\n",
       "      <th>Score</th>\n",
       "      <th>Age</th>\n",
       "      <th>Subject</th>\n",
       "      <th>Sex</th>\n",
       "      <th>ID</th>\n",
       "    </tr>\n",
       "  </thead>\n",
       "  <tbody>\n",
       "    <tr>\n",
       "      <th>0</th>\n",
       "      <td>88.0</td>\n",
       "      <td>18</td>\n",
       "      <td>Maths</td>\n",
       "      <td>M</td>\n",
       "      <td>1</td>\n",
       "    </tr>\n",
       "    <tr>\n",
       "      <th>1</th>\n",
       "      <td>85.0</td>\n",
       "      <td>19</td>\n",
       "      <td>Maths</td>\n",
       "      <td>M</td>\n",
       "      <td>2</td>\n",
       "    </tr>\n",
       "    <tr>\n",
       "      <th>2</th>\n",
       "      <td>45.0</td>\n",
       "      <td>19</td>\n",
       "      <td>Maths</td>\n",
       "      <td>M</td>\n",
       "      <td>3</td>\n",
       "    </tr>\n",
       "    <tr>\n",
       "      <th>3</th>\n",
       "      <td>82.0</td>\n",
       "      <td>18</td>\n",
       "      <td>Maths</td>\n",
       "      <td>M</td>\n",
       "      <td>4</td>\n",
       "    </tr>\n",
       "    <tr>\n",
       "      <th>4</th>\n",
       "      <td>82.0</td>\n",
       "      <td>18</td>\n",
       "      <td>Maths</td>\n",
       "      <td>F</td>\n",
       "      <td>5</td>\n",
       "    </tr>\n",
       "  </tbody>\n",
       "</table>\n",
       "</div>"
      ],
      "text/plain": [
       "   Score  Age Subject Sex  ID\n",
       "0   88.0   18   Maths   M   1\n",
       "1   85.0   19   Maths   M   2\n",
       "2   45.0   19   Maths   M   3\n",
       "3   82.0   18   Maths   M   4\n",
       "4   82.0   18   Maths   F   5"
      ]
     },
     "execution_count": 87,
     "metadata": {},
     "output_type": "execute_result"
    }
   ],
   "source": [
    "math_data.drop(['Name','Ethinicity'],axis=1,inplace=True)\n",
    "math_data.head()"
   ]
  },
  {
   "cell_type": "code",
   "execution_count": 88,
   "metadata": {},
   "outputs": [
    {
     "data": {
      "text/html": [
       "<div>\n",
       "<style scoped>\n",
       "    .dataframe tbody tr th:only-of-type {\n",
       "        vertical-align: middle;\n",
       "    }\n",
       "\n",
       "    .dataframe tbody tr th {\n",
       "        vertical-align: top;\n",
       "    }\n",
       "\n",
       "    .dataframe thead th {\n",
       "        text-align: right;\n",
       "    }\n",
       "</style>\n",
       "<table border=\"1\" class=\"dataframe\">\n",
       "  <thead>\n",
       "    <tr style=\"text-align: right;\">\n",
       "      <th></th>\n",
       "      <th>Score</th>\n",
       "      <th>Age</th>\n",
       "      <th>Subject</th>\n",
       "      <th>Sex</th>\n",
       "      <th>ID</th>\n",
       "    </tr>\n",
       "  </thead>\n",
       "  <tbody>\n",
       "    <tr>\n",
       "      <th>0</th>\n",
       "      <td>82.0</td>\n",
       "      <td>18</td>\n",
       "      <td>Data Structue</td>\n",
       "      <td>M</td>\n",
       "      <td>1</td>\n",
       "    </tr>\n",
       "    <tr>\n",
       "      <th>1</th>\n",
       "      <td>79.0</td>\n",
       "      <td>19</td>\n",
       "      <td>Data Structue</td>\n",
       "      <td>M</td>\n",
       "      <td>2</td>\n",
       "    </tr>\n",
       "    <tr>\n",
       "      <th>2</th>\n",
       "      <td>39.0</td>\n",
       "      <td>19</td>\n",
       "      <td>Data Structue</td>\n",
       "      <td>M</td>\n",
       "      <td>3</td>\n",
       "    </tr>\n",
       "    <tr>\n",
       "      <th>3</th>\n",
       "      <td>76.0</td>\n",
       "      <td>18</td>\n",
       "      <td>Data Structue</td>\n",
       "      <td>M</td>\n",
       "      <td>4</td>\n",
       "    </tr>\n",
       "    <tr>\n",
       "      <th>4</th>\n",
       "      <td>76.0</td>\n",
       "      <td>18</td>\n",
       "      <td>Data Structue</td>\n",
       "      <td>F</td>\n",
       "      <td>5</td>\n",
       "    </tr>\n",
       "  </tbody>\n",
       "</table>\n",
       "</div>"
      ],
      "text/plain": [
       "   Score  Age        Subject Sex  ID\n",
       "0   82.0   18  Data Structue   M   1\n",
       "1   79.0   19  Data Structue   M   2\n",
       "2   39.0   19  Data Structue   M   3\n",
       "3   76.0   18  Data Structue   M   4\n",
       "4   76.0   18  Data Structue   F   5"
      ]
     },
     "execution_count": 88,
     "metadata": {},
     "output_type": "execute_result"
    }
   ],
   "source": [
    "ds_data.drop(['Name','Ethinicity'],axis=1,inplace=True)\n",
    "ds_data.head()"
   ]
  },
  {
   "cell_type": "code",
   "execution_count": 89,
   "metadata": {},
   "outputs": [
    {
     "data": {
      "text/html": [
       "<div>\n",
       "<style scoped>\n",
       "    .dataframe tbody tr th:only-of-type {\n",
       "        vertical-align: middle;\n",
       "    }\n",
       "\n",
       "    .dataframe tbody tr th {\n",
       "        vertical-align: top;\n",
       "    }\n",
       "\n",
       "    .dataframe thead th {\n",
       "        text-align: right;\n",
       "    }\n",
       "</style>\n",
       "<table border=\"1\" class=\"dataframe\">\n",
       "  <thead>\n",
       "    <tr style=\"text-align: right;\">\n",
       "      <th></th>\n",
       "      <th>Score</th>\n",
       "      <th>Age</th>\n",
       "      <th>Subject</th>\n",
       "      <th>Sex</th>\n",
       "      <th>ID</th>\n",
       "    </tr>\n",
       "  </thead>\n",
       "  <tbody>\n",
       "    <tr>\n",
       "      <th>0</th>\n",
       "      <td>84.0</td>\n",
       "      <td>18</td>\n",
       "      <td>Physics</td>\n",
       "      <td>M</td>\n",
       "      <td>1</td>\n",
       "    </tr>\n",
       "    <tr>\n",
       "      <th>1</th>\n",
       "      <td>81.0</td>\n",
       "      <td>19</td>\n",
       "      <td>Physics</td>\n",
       "      <td>M</td>\n",
       "      <td>2</td>\n",
       "    </tr>\n",
       "    <tr>\n",
       "      <th>2</th>\n",
       "      <td>41.0</td>\n",
       "      <td>19</td>\n",
       "      <td>Physics</td>\n",
       "      <td>M</td>\n",
       "      <td>3</td>\n",
       "    </tr>\n",
       "    <tr>\n",
       "      <th>3</th>\n",
       "      <td>78.0</td>\n",
       "      <td>18</td>\n",
       "      <td>Physics</td>\n",
       "      <td>M</td>\n",
       "      <td>4</td>\n",
       "    </tr>\n",
       "    <tr>\n",
       "      <th>4</th>\n",
       "      <td>78.0</td>\n",
       "      <td>18</td>\n",
       "      <td>Physics</td>\n",
       "      <td>F</td>\n",
       "      <td>5</td>\n",
       "    </tr>\n",
       "  </tbody>\n",
       "</table>\n",
       "</div>"
      ],
      "text/plain": [
       "   Score  Age  Subject Sex  ID\n",
       "0   84.0   18  Physics   M   1\n",
       "1   81.0   19  Physics   M   2\n",
       "2   41.0   19  Physics   M   3\n",
       "3   78.0   18  Physics   M   4\n",
       "4   78.0   18  Physics   F   5"
      ]
     },
     "execution_count": 89,
     "metadata": {},
     "output_type": "execute_result"
    }
   ],
   "source": [
    "phy_data.drop(['Name','Ethinicity'],axis=1,inplace=True)\n",
    "phy_data.head()"
   ]
  },
  {
   "cell_type": "markdown",
   "metadata": {},
   "source": [
    "### Fill missing score data with zero"
   ]
  },
  {
   "cell_type": "code",
   "execution_count": 91,
   "metadata": {},
   "outputs": [
    {
     "data": {
      "text/plain": [
       "Score      3\n",
       "Age        0\n",
       "Subject    0\n",
       "Sex        0\n",
       "ID         0\n",
       "dtype: int64"
      ]
     },
     "execution_count": 91,
     "metadata": {},
     "output_type": "execute_result"
    }
   ],
   "source": [
    "math_data.isnull().sum()"
   ]
  },
  {
   "cell_type": "code",
   "execution_count": 92,
   "metadata": {},
   "outputs": [],
   "source": [
    "math_data['Score'] = math_data['Score'].fillna(0)"
   ]
  },
  {
   "cell_type": "code",
   "execution_count": 93,
   "metadata": {},
   "outputs": [
    {
     "data": {
      "text/plain": [
       "Score      0\n",
       "Age        0\n",
       "Subject    0\n",
       "Sex        0\n",
       "ID         0\n",
       "dtype: int64"
      ]
     },
     "execution_count": 93,
     "metadata": {},
     "output_type": "execute_result"
    }
   ],
   "source": [
    "math_data.isnull().sum()"
   ]
  },
  {
   "cell_type": "code",
   "execution_count": 95,
   "metadata": {},
   "outputs": [],
   "source": [
    "ds_data.isnull().sum()\n",
    "ds_data['Score'] = ds_data['Score'].fillna(0)"
   ]
  },
  {
   "cell_type": "code",
   "execution_count": 97,
   "metadata": {},
   "outputs": [
    {
     "data": {
      "text/plain": [
       "Score      0\n",
       "Age        0\n",
       "Subject    0\n",
       "Sex        0\n",
       "ID         0\n",
       "dtype: int64"
      ]
     },
     "execution_count": 97,
     "metadata": {},
     "output_type": "execute_result"
    }
   ],
   "source": [
    "ds_data.isnull().sum()"
   ]
  },
  {
   "cell_type": "code",
   "execution_count": 100,
   "metadata": {},
   "outputs": [],
   "source": [
    "phy_data.isnull().sum()\n",
    "phy_data['Score'] = phy_data['Score'].fillna(0)"
   ]
  },
  {
   "cell_type": "code",
   "execution_count": 101,
   "metadata": {},
   "outputs": [
    {
     "data": {
      "text/plain": [
       "Score      0\n",
       "Age        0\n",
       "Subject    0\n",
       "Sex        0\n",
       "ID         0\n",
       "dtype: int64"
      ]
     },
     "execution_count": 101,
     "metadata": {},
     "output_type": "execute_result"
    }
   ],
   "source": [
    "phy_data.isnull().sum()"
   ]
  },
  {
   "cell_type": "markdown",
   "metadata": {},
   "source": [
    "### Merge the three files"
   ]
  },
  {
   "cell_type": "code",
   "execution_count": 102,
   "metadata": {},
   "outputs": [],
   "source": [
    "all_data = [math_data,phy_data,ds_data]"
   ]
  },
  {
   "cell_type": "code",
   "execution_count": 103,
   "metadata": {},
   "outputs": [
    {
     "data": {
      "text/plain": [
       "[     Score  Age Subject Sex   ID\n",
       " 0     88.0   18   Maths   M    1\n",
       " 1     85.0   19   Maths   M    2\n",
       " 2     45.0   19   Maths   M    3\n",
       " 3     82.0   18   Maths   M    4\n",
       " 4     82.0   18   Maths   F    5\n",
       " ..     ...  ...     ...  ..  ...\n",
       " 594   45.0   19   Maths   F  595\n",
       " 595   75.0   18   Maths   M  596\n",
       " 596   53.0   20   Maths   M  597\n",
       " 597   75.0   20   Maths   M  598\n",
       " 598   88.0   19   Maths   M  599\n",
       " \n",
       " [599 rows x 5 columns],\n",
       "      Score  Age  Subject Sex   ID\n",
       " 0     84.0   18  Physics   M    1\n",
       " 1     81.0   19  Physics   M    2\n",
       " 2     41.0   19  Physics   M    3\n",
       " 3     78.0   18  Physics   M    4\n",
       " 4     78.0   18  Physics   F    5\n",
       " ..     ...  ...      ...  ..  ...\n",
       " 594   41.0   19  Physics   F  595\n",
       " 595   71.0   18  Physics   M  596\n",
       " 596   49.0   20  Physics   M  597\n",
       " 597   71.0   20  Physics   M  598\n",
       " 598   69.0   19  Physics   M  599\n",
       " \n",
       " [599 rows x 5 columns],\n",
       "      Score  Age        Subject Sex   ID\n",
       " 0     82.0   18  Data Structue   M    1\n",
       " 1     79.0   19  Data Structue   M    2\n",
       " 2     39.0   19  Data Structue   M    3\n",
       " 3     76.0   18  Data Structue   M    4\n",
       " 4     76.0   18  Data Structue   F    5\n",
       " ..     ...  ...            ...  ..  ...\n",
       " 594   39.0   19  Data Structue   F  595\n",
       " 595   69.0   18  Data Structue   M  596\n",
       " 596   47.0   20  Data Structue   M  597\n",
       " 597   69.0   20  Data Structue   M  598\n",
       " 598    0.0   19  Data Structue   M  599\n",
       " \n",
       " [599 rows x 5 columns]]"
      ]
     },
     "execution_count": 103,
     "metadata": {},
     "output_type": "execute_result"
    }
   ],
   "source": [
    "all_data"
   ]
  },
  {
   "cell_type": "markdown",
   "metadata": {},
   "source": [
    "### Change Sex(M/F) Column to 1/2 for further analysis"
   ]
  },
  {
   "cell_type": "code",
   "execution_count": 104,
   "metadata": {},
   "outputs": [],
   "source": [
    "for dataset in all_data:\n",
    "    dataset['Sex'] = dataset['Sex'].map({'M':1, 'F':2}).astype(int)\n",
    "    "
   ]
  },
  {
   "cell_type": "code",
   "execution_count": 105,
   "metadata": {},
   "outputs": [],
   "source": [
    "all_data_df = pd.concat(all_data)"
   ]
  },
  {
   "cell_type": "code",
   "execution_count": 106,
   "metadata": {},
   "outputs": [
    {
     "data": {
      "text/html": [
       "<div>\n",
       "<style scoped>\n",
       "    .dataframe tbody tr th:only-of-type {\n",
       "        vertical-align: middle;\n",
       "    }\n",
       "\n",
       "    .dataframe tbody tr th {\n",
       "        vertical-align: top;\n",
       "    }\n",
       "\n",
       "    .dataframe thead th {\n",
       "        text-align: right;\n",
       "    }\n",
       "</style>\n",
       "<table border=\"1\" class=\"dataframe\">\n",
       "  <thead>\n",
       "    <tr style=\"text-align: right;\">\n",
       "      <th></th>\n",
       "      <th>Score</th>\n",
       "      <th>Age</th>\n",
       "      <th>Subject</th>\n",
       "      <th>Sex</th>\n",
       "      <th>ID</th>\n",
       "    </tr>\n",
       "  </thead>\n",
       "  <tbody>\n",
       "    <tr>\n",
       "      <th>0</th>\n",
       "      <td>88.0</td>\n",
       "      <td>18</td>\n",
       "      <td>Maths</td>\n",
       "      <td>1</td>\n",
       "      <td>1</td>\n",
       "    </tr>\n",
       "    <tr>\n",
       "      <th>1</th>\n",
       "      <td>85.0</td>\n",
       "      <td>19</td>\n",
       "      <td>Maths</td>\n",
       "      <td>1</td>\n",
       "      <td>2</td>\n",
       "    </tr>\n",
       "    <tr>\n",
       "      <th>2</th>\n",
       "      <td>45.0</td>\n",
       "      <td>19</td>\n",
       "      <td>Maths</td>\n",
       "      <td>1</td>\n",
       "      <td>3</td>\n",
       "    </tr>\n",
       "    <tr>\n",
       "      <th>3</th>\n",
       "      <td>82.0</td>\n",
       "      <td>18</td>\n",
       "      <td>Maths</td>\n",
       "      <td>1</td>\n",
       "      <td>4</td>\n",
       "    </tr>\n",
       "    <tr>\n",
       "      <th>4</th>\n",
       "      <td>82.0</td>\n",
       "      <td>18</td>\n",
       "      <td>Maths</td>\n",
       "      <td>2</td>\n",
       "      <td>5</td>\n",
       "    </tr>\n",
       "    <tr>\n",
       "      <th>...</th>\n",
       "      <td>...</td>\n",
       "      <td>...</td>\n",
       "      <td>...</td>\n",
       "      <td>...</td>\n",
       "      <td>...</td>\n",
       "    </tr>\n",
       "    <tr>\n",
       "      <th>594</th>\n",
       "      <td>39.0</td>\n",
       "      <td>19</td>\n",
       "      <td>Data Structue</td>\n",
       "      <td>2</td>\n",
       "      <td>595</td>\n",
       "    </tr>\n",
       "    <tr>\n",
       "      <th>595</th>\n",
       "      <td>69.0</td>\n",
       "      <td>18</td>\n",
       "      <td>Data Structue</td>\n",
       "      <td>1</td>\n",
       "      <td>596</td>\n",
       "    </tr>\n",
       "    <tr>\n",
       "      <th>596</th>\n",
       "      <td>47.0</td>\n",
       "      <td>20</td>\n",
       "      <td>Data Structue</td>\n",
       "      <td>1</td>\n",
       "      <td>597</td>\n",
       "    </tr>\n",
       "    <tr>\n",
       "      <th>597</th>\n",
       "      <td>69.0</td>\n",
       "      <td>20</td>\n",
       "      <td>Data Structue</td>\n",
       "      <td>1</td>\n",
       "      <td>598</td>\n",
       "    </tr>\n",
       "    <tr>\n",
       "      <th>598</th>\n",
       "      <td>0.0</td>\n",
       "      <td>19</td>\n",
       "      <td>Data Structue</td>\n",
       "      <td>1</td>\n",
       "      <td>599</td>\n",
       "    </tr>\n",
       "  </tbody>\n",
       "</table>\n",
       "<p>1797 rows × 5 columns</p>\n",
       "</div>"
      ],
      "text/plain": [
       "     Score  Age        Subject  Sex   ID\n",
       "0     88.0   18          Maths    1    1\n",
       "1     85.0   19          Maths    1    2\n",
       "2     45.0   19          Maths    1    3\n",
       "3     82.0   18          Maths    1    4\n",
       "4     82.0   18          Maths    2    5\n",
       "..     ...  ...            ...  ...  ...\n",
       "594   39.0   19  Data Structue    2  595\n",
       "595   69.0   18  Data Structue    1  596\n",
       "596   47.0   20  Data Structue    1  597\n",
       "597   69.0   20  Data Structue    1  598\n",
       "598    0.0   19  Data Structue    1  599\n",
       "\n",
       "[1797 rows x 5 columns]"
      ]
     },
     "execution_count": 106,
     "metadata": {},
     "output_type": "execute_result"
    }
   ],
   "source": [
    "all_data_df"
   ]
  },
  {
   "cell_type": "markdown",
   "metadata": {},
   "source": [
    "### Store the data in new file –ScoreFinal.csv"
   ]
  },
  {
   "cell_type": "code",
   "execution_count": 107,
   "metadata": {},
   "outputs": [],
   "source": [
    "all_data_df.to_csv('ScoreFinal.csv',index=False)"
   ]
  },
  {
   "cell_type": "code",
   "execution_count": null,
   "metadata": {},
   "outputs": [],
   "source": []
  }
 ],
 "metadata": {
  "kernelspec": {
   "display_name": "Python 3",
   "language": "python",
   "name": "python3"
  },
  "language_info": {
   "codemirror_mode": {
    "name": "ipython",
    "version": 3
   },
   "file_extension": ".py",
   "mimetype": "text/x-python",
   "name": "python",
   "nbconvert_exporter": "python",
   "pygments_lexer": "ipython3",
   "version": "3.7.6"
  }
 },
 "nbformat": 4,
 "nbformat_minor": 4
}
